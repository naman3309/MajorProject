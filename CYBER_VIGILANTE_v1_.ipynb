{
  "nbformat": 4,
  "nbformat_minor": 0,
  "metadata": {
    "colab": {
      "provenance": [],
      "include_colab_link": true
    },
    "kernelspec": {
      "name": "python3",
      "display_name": "Python 3"
    },
    "language_info": {
      "name": "python"
    }
  },
  "cells": [
    {
      "cell_type": "markdown",
      "metadata": {
        "id": "view-in-github",
        "colab_type": "text"
      },
      "source": [
        "<a href=\"https://colab.research.google.com/github/naman3309/MajorProject/blob/colab/CYBER_VIGILANTE_v1_.ipynb\" target=\"_parent\"><img src=\"https://colab.research.google.com/assets/colab-badge.svg\" alt=\"Open In Colab\"/></a>"
      ]
    },
    {
      "cell_type": "markdown",
      "source": [
        "Pandas\n",
        "Isolation Forest\n",
        "Unsupervised Anomaly Detection"
      ],
      "metadata": {
        "id": "TUssR4DBRC5a"
      }
    },
    {
      "cell_type": "code",
      "source": [
        "\n",
        "import pandas as pd\n",
        "import random\n",
        "from datetime import datetime, timedelta\n",
        "from sklearn.ensemble import IsolationForest\n"
      ],
      "metadata": {
        "id": "1LajIoG1JzU0"
      },
      "execution_count": null,
      "outputs": []
    },
    {
      "cell_type": "code",
      "source": [
        "# Generate synthetic data\n",
        "activities = ['login', 'file_access', 'data_download', 'logout', 'restricted_access']\n",
        "\n",
        "# Create random activity logs\n",
        "data = []\n",
        "for i in range(1000):\n",
        "    user = f'User{i+1}'\n",
        "    activity = random.choice(activities)\n",
        "    timestamp = datetime.now() - timedelta(minutes=random.randint(0, 10000))  # Random timestamp generation\n",
        "    data.append({'user_id': user, 'activity': activity, 'timestamp': timestamp})\n",
        "\n",
        "# Create DataFrame\n",
        "df = pd.DataFrame(data)\n",
        "df['timestamp'] = pd.to_datetime(df['timestamp'])\n",
        "\n",
        "# Display the first few rows of the dataset\n",
        "print(\"Synthetic Data:\")\n",
        "print(df.head())\n"
      ],
      "metadata": {
        "colab": {
          "base_uri": "https://localhost:8080/"
        },
        "id": "MkBBWBZlJ2Yq",
        "outputId": "150d5d72-f458-4738-bfdd-f5e5974c4e57"
      },
      "execution_count": null,
      "outputs": [
        {
          "output_type": "stream",
          "name": "stdout",
          "text": [
            "Synthetic Data:\n",
            "      user_id           activity                  timestamp\n",
            "0       User1  restricted_access 2024-12-04 07:29:59.958763\n",
            "1       User2             logout 2024-12-04 07:00:59.958781\n",
            "2       User3      data_download 2024-12-09 09:41:59.958788\n",
            "3       User4      data_download 2024-12-08 13:36:59.958792\n",
            "4       User5  restricted_access 2024-12-05 07:06:59.958796\n",
            "..        ...                ...                        ...\n",
            "995   User996              login 2024-12-09 23:01:59.964005\n",
            "996   User997      data_download 2024-12-03 23:07:59.964011\n",
            "997   User998             logout 2024-12-07 15:13:59.964017\n",
            "998   User999      data_download 2024-12-04 14:19:59.964023\n",
            "999  User1000        file_access 2024-12-05 15:41:59.964029\n",
            "\n",
            "[1000 rows x 3 columns]\n"
          ]
        }
      ]
    },
    {
      "cell_type": "code",
      "source": [
        "# Extract useful features\n",
        "df['hour'] = df['timestamp'].dt.hour\n",
        "df['day_of_week'] = df['timestamp'].dt.dayofweek\n",
        "\n",
        "# Display preprocessed data\n",
        "print(\"\\nPreprocessed Data:\")\n",
        "print(df.head())\n"
      ],
      "metadata": {
        "colab": {
          "base_uri": "https://localhost:8080/"
        },
        "id": "HwMcogOLJ-wB",
        "outputId": "41f1f9ef-c8bc-4850-8817-94dd96d52e9e"
      },
      "execution_count": null,
      "outputs": [
        {
          "output_type": "stream",
          "name": "stdout",
          "text": [
            "\n",
            "Preprocessed Data:\n",
            "      user_id           activity                  timestamp  hour  day_of_week\n",
            "0       User1  restricted_access 2024-12-04 07:29:59.958763     7            2\n",
            "1       User2             logout 2024-12-04 07:00:59.958781     7            2\n",
            "2       User3      data_download 2024-12-09 09:41:59.958788     9            0\n",
            "3       User4      data_download 2024-12-08 13:36:59.958792    13            6\n",
            "4       User5  restricted_access 2024-12-05 07:06:59.958796     7            3\n",
            "..        ...                ...                        ...   ...          ...\n",
            "995   User996              login 2024-12-09 23:01:59.964005    23            0\n",
            "996   User997      data_download 2024-12-03 23:07:59.964011    23            1\n",
            "997   User998             logout 2024-12-07 15:13:59.964017    15            5\n",
            "998   User999      data_download 2024-12-04 14:19:59.964023    14            2\n",
            "999  User1000        file_access 2024-12-05 15:41:59.964029    15            3\n",
            "\n",
            "[1000 rows x 5 columns]\n"
          ]
        }
      ]
    },
    {
      "cell_type": "code",
      "source": [
        "# Prepare data by cleaning and classifing it.\n",
        "features = df[['hour', 'day_of_week']]\n",
        "\n",
        "# Using Isolation Forest Algo for anomaly detection\n",
        "cont = random.randint(0,28)/100\n",
        "print(cont)\n",
        "model = IsolationForest(contamination=cont, random_state=42)\n",
        "df['anomaly'] = model.fit_predict(features)\n",
        "\n",
        "# Mark anomalies\n",
        "df['anomaly_flag'] = df['anomaly'].apply(lambda x: 'Anomaly' if x == -1 else 'Normal')\n",
        "count = df['anomaly_flag'].value_counts()\n",
        "\n",
        "# Display results with anomaly flags\n",
        "print(\"\\nAnomaly Detection Results:\")\n",
        "print(df[['user_id', 'activity', 'hour', 'day_of_week', 'anomaly_flag']])\n",
        "print(count)\n"
      ],
      "metadata": {
        "colab": {
          "base_uri": "https://localhost:8080/"
        },
        "id": "5OPwpxQJJ_sD",
        "outputId": "52db013a-a47b-4122-cef9-47508e231a51"
      },
      "execution_count": null,
      "outputs": [
        {
          "output_type": "stream",
          "name": "stdout",
          "text": [
            "0.24\n",
            "\n",
            "Anomaly Detection Results:\n",
            "      user_id           activity  hour  day_of_week anomaly_flag\n",
            "0       User1  restricted_access     7            2       Normal\n",
            "1       User2             logout     7            2       Normal\n",
            "2       User3      data_download     9            0      Anomaly\n",
            "3       User4      data_download    13            6       Normal\n",
            "4       User5  restricted_access     7            3       Normal\n",
            "..        ...                ...   ...          ...          ...\n",
            "995   User996              login    23            0      Anomaly\n",
            "996   User997      data_download    23            1      Anomaly\n",
            "997   User998             logout    15            5       Normal\n",
            "998   User999      data_download    14            2       Normal\n",
            "999  User1000        file_access    15            3       Normal\n",
            "\n",
            "[1000 rows x 5 columns]\n",
            "anomaly_flag\n",
            "Normal     761\n",
            "Anomaly    239\n",
            "Name: count, dtype: int64\n"
          ]
        }
      ]
    },
    {
      "cell_type": "code",
      "source": [
        "# Define risk weights for activities\n",
        "activity_risk = {\n",
        "    'login': 1,\n",
        "    'file_access': 2,\n",
        "    'data_download': 3,\n",
        "    'restricted_access': 5,\n",
        "    'logout': 0\n",
        "}\n",
        "\n",
        "# Assign risk scores to each activity\n",
        "df['risk_score'] = df['activity'].map(activity_risk)\n",
        "\n",
        "# Aggregate risk score for each user\n",
        "user_risk = df.groupby('user_id')['risk_score'].sum().reset_index()\n",
        "user_risk.columns = ['user_id', 'total_risk_score']\n",
        "\n",
        "# Display user risk scores\n",
        "print(\"\\nUser Risk Scores:\")\n",
        "print(user_risk)\n"
      ],
      "metadata": {
        "colab": {
          "base_uri": "https://localhost:8080/"
        },
        "id": "h61QxIsHKM4D",
        "outputId": "f5af0def-3d0e-456a-888e-960268ea2ebd"
      },
      "execution_count": null,
      "outputs": [
        {
          "output_type": "stream",
          "name": "stdout",
          "text": [
            "\n",
            "User Risk Scores:\n",
            "      user_id  total_risk_score\n",
            "0       User1                 5\n",
            "1      User10                 5\n",
            "2     User100                 0\n",
            "3    User1000                 2\n",
            "4     User101                 3\n",
            "..        ...               ...\n",
            "995   User995                 2\n",
            "996   User996                 1\n",
            "997   User997                 3\n",
            "998   User998                 0\n",
            "999   User999                 3\n",
            "\n",
            "[1000 rows x 2 columns]\n"
          ]
        }
      ]
    },
    {
      "cell_type": "code",
      "source": [
        "# Define a risk threshold for alerts\n",
        "RISK_THRESHOLD = 15\n",
        "\n",
        "# Identify high-risk users\n",
        "high_risk_users = user_risk[user_risk['total_risk_score'] > RISK_THRESHOLD]\n",
        "\n",
        "# Display alerts for high-risk users\n",
        "print(\"\\nAlerts for High-Risk Users:\")\n",
        "for _, row in high_risk_users.iterrows():\n",
        "    user_id = row['user_id']\n",
        "    risk_score = row['total_risk_score']\n",
        "    print(f\"ALERT: User {user_id} has a high risk score of {risk_score}!\")\n"
      ],
      "metadata": {
        "colab": {
          "base_uri": "https://localhost:8080/"
        },
        "id": "jBbFq7F5KSHO",
        "outputId": "853a36a0-9da6-4b7f-8e35-1891787a3460"
      },
      "execution_count": null,
      "outputs": [
        {
          "output_type": "stream",
          "name": "stdout",
          "text": [
            "\n",
            "Alerts for High-Risk Users:\n",
            "ALERT: User User1 has a high risk score of 243!\n",
            "ALERT: User User10 has a high risk score of 229!\n",
            "ALERT: User User2 has a high risk score of 241!\n",
            "ALERT: User User3 has a high risk score of 276!\n",
            "ALERT: User User4 has a high risk score of 232!\n",
            "ALERT: User User5 has a high risk score of 200!\n",
            "ALERT: User User6 has a high risk score of 150!\n",
            "ALERT: User User7 has a high risk score of 250!\n",
            "ALERT: User User8 has a high risk score of 219!\n",
            "ALERT: User User9 has a high risk score of 208!\n"
          ]
        }
      ]
    },
    {
      "cell_type": "code",
      "source": [
        "import matplotlib.pyplot as plt\n",
        "\n",
        "# Plot total risk scores for users\n",
        "plt.figure(figsize=(10, 6))\n",
        "plt.bar(user_risk['user_id'], user_risk['total_risk_score'], color='skyblue')\n",
        "plt.axhline(y=RISK_THRESHOLD, color='r', linestyle='--', label='Risk Threshold')\n",
        "plt.xlabel('User ID')\n",
        "plt.ylabel('Total Risk Score')\n",
        "plt.title('User Risk Scores')\n",
        "plt.legend()\n",
        "plt.xticks(rotation=45)\n",
        "plt.show()\n",
        "\n"
      ],
      "metadata": {
        "colab": {
          "base_uri": "https://localhost:8080/",
          "height": 595
        },
        "id": "GcTIcCXvKdfC",
        "outputId": "4556ba10-a1df-4a4e-a4ef-a12d6ef852c6"
      },
      "execution_count": null,
      "outputs": [
        {
          "output_type": "display_data",
          "data": {
            "text/plain": [
              "<Figure size 1000x600 with 1 Axes>"
            ],
            "image/png": "[encoded data removed]"
          },
          "metadata": {}
        }
      ]
    }
  ]
}